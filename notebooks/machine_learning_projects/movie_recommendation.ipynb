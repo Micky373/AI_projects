{
  "nbformat": 4,
  "nbformat_minor": 0,
  "metadata": {
    "colab": {
      "provenance": [],
      "collapsed_sections": [
        "-VpxRw0i8CsR",
        "LgJ9UBHHD3Wf"
      ]
    },
    "kernelspec": {
      "name": "python3",
      "display_name": "Python 3"
    },
    "language_info": {
      "name": "python"
    }
  },
  "cells": [
    {
      "cell_type": "markdown",
      "source": [
        "# Mounting the google drive"
      ],
      "metadata": {
        "id": "-VpxRw0i8CsR"
      }
    },
    {
      "cell_type": "code",
      "source": [
        "# Mounting the google drive to get the images\n",
        "\n",
        "from google.colab import drive\n",
        "drive.mount('/content/drive')"
      ],
      "metadata": {
        "colab": {
          "base_uri": "https://localhost:8080/"
        },
        "id": "8wJKKDiX3qJf",
        "outputId": "8054eddb-5cd2-4e60-b3f7-e6486648d936"
      },
      "execution_count": 1,
      "outputs": [
        {
          "output_type": "stream",
          "name": "stdout",
          "text": [
            "Mounted at /content/drive\n"
          ]
        }
      ]
    },
    {
      "cell_type": "markdown",
      "source": [
        "# Importing useful libraries and data reading"
      ],
      "metadata": {
        "id": "LgJ9UBHHD3Wf"
      }
    },
    {
      "cell_type": "code",
      "execution_count": 2,
      "metadata": {
        "id": "jwYAallL2XMW"
      },
      "outputs": [],
      "source": [
        "# Importing useful libraries\n",
        "\n",
        "import numpy as np # For numerical computations\n",
        "import pandas as pd # For dataframe related tasks\n",
        "\n",
        "# To remove unneccesary warnings\n",
        "import warnings\n",
        "warnings.filterwarnings('ignore')\n",
        "\n",
        "import difflib # For getting simmilar words\n",
        "\n",
        "# A module to change the words into vector\n",
        "from sklearn.feature_extraction.text import TfidfVectorizer\n",
        "\n",
        "# A module to find simmilar values\n",
        "from sklearn.metrics.pairwise import cosine_similarity\n",
        "\n",
        "import pickle # For model saving"
      ]
    },
    {
      "cell_type": "code",
      "source": [
        "# Specifying the location for all our data is located\n",
        "\n",
        "data_folder_path = 'drive/MyDrive/AI_project_data/'"
      ],
      "metadata": {
        "id": "HqpIk04w36HT"
      },
      "execution_count": 3,
      "outputs": []
    },
    {
      "cell_type": "code",
      "source": [
        "# Reading the calory data\n",
        "\n",
        "df = pd.read_csv(data_folder_path + 'movies.csv')\n",
        "df.head()"
      ],
      "metadata": {
        "colab": {
          "base_uri": "https://localhost:8080/",
          "height": 838
        },
        "id": "Q4oqOCC-E0X1",
        "outputId": "a95a4626-37bf-4caa-c568-5cb5853e94c4"
      },
      "execution_count": 20,
      "outputs": [
        {
          "output_type": "execute_result",
          "data": {
            "text/plain": [
              "   index     budget                                    genres  \\\n",
              "0      0  237000000  Action Adventure Fantasy Science Fiction   \n",
              "1      1  300000000                  Adventure Fantasy Action   \n",
              "2      2  245000000                    Action Adventure Crime   \n",
              "3      3  250000000               Action Crime Drama Thriller   \n",
              "4      4  260000000          Action Adventure Science Fiction   \n",
              "\n",
              "                                       homepage      id  \\\n",
              "0                   http://www.avatarmovie.com/   19995   \n",
              "1  http://disney.go.com/disneypictures/pirates/     285   \n",
              "2   http://www.sonypictures.com/movies/spectre/  206647   \n",
              "3            http://www.thedarkknightrises.com/   49026   \n",
              "4          http://movies.disney.com/john-carter   49529   \n",
              "\n",
              "                                            keywords original_language  \\\n",
              "0  culture clash future space war space colony so...                en   \n",
              "1  ocean drug abuse exotic island east india trad...                en   \n",
              "2         spy based on novel secret agent sequel mi6                en   \n",
              "3  dc comics crime fighter terrorist secret ident...                en   \n",
              "4  based on novel mars medallion space travel pri...                en   \n",
              "\n",
              "                             original_title  \\\n",
              "0                                    Avatar   \n",
              "1  Pirates of the Caribbean: At World's End   \n",
              "2                                   Spectre   \n",
              "3                     The Dark Knight Rises   \n",
              "4                               John Carter   \n",
              "\n",
              "                                            overview  popularity  ... runtime  \\\n",
              "0  In the 22nd century, a paraplegic Marine is di...  150.437577  ...   162.0   \n",
              "1  Captain Barbossa, long believed to be dead, ha...  139.082615  ...   169.0   \n",
              "2  A cryptic message from Bond’s past sends him o...  107.376788  ...   148.0   \n",
              "3  Following the death of District Attorney Harve...  112.312950  ...   165.0   \n",
              "4  John Carter is a war-weary, former military ca...   43.926995  ...   132.0   \n",
              "\n",
              "                                    spoken_languages    status  \\\n",
              "0  [{\"iso_639_1\": \"en\", \"name\": \"English\"}, {\"iso...  Released   \n",
              "1           [{\"iso_639_1\": \"en\", \"name\": \"English\"}]  Released   \n",
              "2  [{\"iso_639_1\": \"fr\", \"name\": \"Fran\\u00e7ais\"},...  Released   \n",
              "3           [{\"iso_639_1\": \"en\", \"name\": \"English\"}]  Released   \n",
              "4           [{\"iso_639_1\": \"en\", \"name\": \"English\"}]  Released   \n",
              "\n",
              "                                          tagline  \\\n",
              "0                     Enter the World of Pandora.   \n",
              "1  At the end of the world, the adventure begins.   \n",
              "2                           A Plan No One Escapes   \n",
              "3                                 The Legend Ends   \n",
              "4            Lost in our world, found in another.   \n",
              "\n",
              "                                      title vote_average vote_count  \\\n",
              "0                                    Avatar          7.2      11800   \n",
              "1  Pirates of the Caribbean: At World's End          6.9       4500   \n",
              "2                                   Spectre          6.3       4466   \n",
              "3                     The Dark Knight Rises          7.6       9106   \n",
              "4                               John Carter          6.1       2124   \n",
              "\n",
              "                                                cast  \\\n",
              "0  Sam Worthington Zoe Saldana Sigourney Weaver S...   \n",
              "1  Johnny Depp Orlando Bloom Keira Knightley Stel...   \n",
              "2  Daniel Craig Christoph Waltz L\\u00e9a Seydoux ...   \n",
              "3  Christian Bale Michael Caine Gary Oldman Anne ...   \n",
              "4  Taylor Kitsch Lynn Collins Samantha Morton Wil...   \n",
              "\n",
              "                                                crew           director  \n",
              "0  [{'name': 'Stephen E. Rivkin', 'gender': 0, 'd...      James Cameron  \n",
              "1  [{'name': 'Dariusz Wolski', 'gender': 2, 'depa...     Gore Verbinski  \n",
              "2  [{'name': 'Thomas Newman', 'gender': 2, 'depar...         Sam Mendes  \n",
              "3  [{'name': 'Hans Zimmer', 'gender': 2, 'departm...  Christopher Nolan  \n",
              "4  [{'name': 'Andrew Stanton', 'gender': 2, 'depa...     Andrew Stanton  \n",
              "\n",
              "[5 rows x 24 columns]"
            ],
            "text/html": [
              "\n",
              "  <div id=\"df-bb06882b-74f1-4aba-a1e6-0b9946321b67\">\n",
              "    <div class=\"colab-df-container\">\n",
              "      <div>\n",
              "<style scoped>\n",
              "    .dataframe tbody tr th:only-of-type {\n",
              "        vertical-align: middle;\n",
              "    }\n",
              "\n",
              "    .dataframe tbody tr th {\n",
              "        vertical-align: top;\n",
              "    }\n",
              "\n",
              "    .dataframe thead th {\n",
              "        text-align: right;\n",
              "    }\n",
              "</style>\n",
              "<table border=\"1\" class=\"dataframe\">\n",
              "  <thead>\n",
              "    <tr style=\"text-align: right;\">\n",
              "      <th></th>\n",
              "      <th>index</th>\n",
              "      <th>budget</th>\n",
              "      <th>genres</th>\n",
              "      <th>homepage</th>\n",
              "      <th>id</th>\n",
              "      <th>keywords</th>\n",
              "      <th>original_language</th>\n",
              "      <th>original_title</th>\n",
              "      <th>overview</th>\n",
              "      <th>popularity</th>\n",
              "      <th>...</th>\n",
              "      <th>runtime</th>\n",
              "      <th>spoken_languages</th>\n",
              "      <th>status</th>\n",
              "      <th>tagline</th>\n",
              "      <th>title</th>\n",
              "      <th>vote_average</th>\n",
              "      <th>vote_count</th>\n",
              "      <th>cast</th>\n",
              "      <th>crew</th>\n",
              "      <th>director</th>\n",
              "    </tr>\n",
              "  </thead>\n",
              "  <tbody>\n",
              "    <tr>\n",
              "      <th>0</th>\n",
              "      <td>0</td>\n",
              "      <td>237000000</td>\n",
              "      <td>Action Adventure Fantasy Science Fiction</td>\n",
              "      <td>http://www.avatarmovie.com/</td>\n",
              "      <td>19995</td>\n",
              "      <td>culture clash future space war space colony so...</td>\n",
              "      <td>en</td>\n",
              "      <td>Avatar</td>\n",
              "      <td>In the 22nd century, a paraplegic Marine is di...</td>\n",
              "      <td>150.437577</td>\n",
              "      <td>...</td>\n",
              "      <td>162.0</td>\n",
              "      <td>[{\"iso_639_1\": \"en\", \"name\": \"English\"}, {\"iso...</td>\n",
              "      <td>Released</td>\n",
              "      <td>Enter the World of Pandora.</td>\n",
              "      <td>Avatar</td>\n",
              "      <td>7.2</td>\n",
              "      <td>11800</td>\n",
              "      <td>Sam Worthington Zoe Saldana Sigourney Weaver S...</td>\n",
              "      <td>[{'name': 'Stephen E. Rivkin', 'gender': 0, 'd...</td>\n",
              "      <td>James Cameron</td>\n",
              "    </tr>\n",
              "    <tr>\n",
              "      <th>1</th>\n",
              "      <td>1</td>\n",
              "      <td>300000000</td>\n",
              "      <td>Adventure Fantasy Action</td>\n",
              "      <td>http://disney.go.com/disneypictures/pirates/</td>\n",
              "      <td>285</td>\n",
              "      <td>ocean drug abuse exotic island east india trad...</td>\n",
              "      <td>en</td>\n",
              "      <td>Pirates of the Caribbean: At World's End</td>\n",
              "      <td>Captain Barbossa, long believed to be dead, ha...</td>\n",
              "      <td>139.082615</td>\n",
              "      <td>...</td>\n",
              "      <td>169.0</td>\n",
              "      <td>[{\"iso_639_1\": \"en\", \"name\": \"English\"}]</td>\n",
              "      <td>Released</td>\n",
              "      <td>At the end of the world, the adventure begins.</td>\n",
              "      <td>Pirates of the Caribbean: At World's End</td>\n",
              "      <td>6.9</td>\n",
              "      <td>4500</td>\n",
              "      <td>Johnny Depp Orlando Bloom Keira Knightley Stel...</td>\n",
              "      <td>[{'name': 'Dariusz Wolski', 'gender': 2, 'depa...</td>\n",
              "      <td>Gore Verbinski</td>\n",
              "    </tr>\n",
              "    <tr>\n",
              "      <th>2</th>\n",
              "      <td>2</td>\n",
              "      <td>245000000</td>\n",
              "      <td>Action Adventure Crime</td>\n",
              "      <td>http://www.sonypictures.com/movies/spectre/</td>\n",
              "      <td>206647</td>\n",
              "      <td>spy based on novel secret agent sequel mi6</td>\n",
              "      <td>en</td>\n",
              "      <td>Spectre</td>\n",
              "      <td>A cryptic message from Bond’s past sends him o...</td>\n",
              "      <td>107.376788</td>\n",
              "      <td>...</td>\n",
              "      <td>148.0</td>\n",
              "      <td>[{\"iso_639_1\": \"fr\", \"name\": \"Fran\\u00e7ais\"},...</td>\n",
              "      <td>Released</td>\n",
              "      <td>A Plan No One Escapes</td>\n",
              "      <td>Spectre</td>\n",
              "      <td>6.3</td>\n",
              "      <td>4466</td>\n",
              "      <td>Daniel Craig Christoph Waltz L\\u00e9a Seydoux ...</td>\n",
              "      <td>[{'name': 'Thomas Newman', 'gender': 2, 'depar...</td>\n",
              "      <td>Sam Mendes</td>\n",
              "    </tr>\n",
              "    <tr>\n",
              "      <th>3</th>\n",
              "      <td>3</td>\n",
              "      <td>250000000</td>\n",
              "      <td>Action Crime Drama Thriller</td>\n",
              "      <td>http://www.thedarkknightrises.com/</td>\n",
              "      <td>49026</td>\n",
              "      <td>dc comics crime fighter terrorist secret ident...</td>\n",
              "      <td>en</td>\n",
              "      <td>The Dark Knight Rises</td>\n",
              "      <td>Following the death of District Attorney Harve...</td>\n",
              "      <td>112.312950</td>\n",
              "      <td>...</td>\n",
              "      <td>165.0</td>\n",
              "      <td>[{\"iso_639_1\": \"en\", \"name\": \"English\"}]</td>\n",
              "      <td>Released</td>\n",
              "      <td>The Legend Ends</td>\n",
              "      <td>The Dark Knight Rises</td>\n",
              "      <td>7.6</td>\n",
              "      <td>9106</td>\n",
              "      <td>Christian Bale Michael Caine Gary Oldman Anne ...</td>\n",
              "      <td>[{'name': 'Hans Zimmer', 'gender': 2, 'departm...</td>\n",
              "      <td>Christopher Nolan</td>\n",
              "    </tr>\n",
              "    <tr>\n",
              "      <th>4</th>\n",
              "      <td>4</td>\n",
              "      <td>260000000</td>\n",
              "      <td>Action Adventure Science Fiction</td>\n",
              "      <td>http://movies.disney.com/john-carter</td>\n",
              "      <td>49529</td>\n",
              "      <td>based on novel mars medallion space travel pri...</td>\n",
              "      <td>en</td>\n",
              "      <td>John Carter</td>\n",
              "      <td>John Carter is a war-weary, former military ca...</td>\n",
              "      <td>43.926995</td>\n",
              "      <td>...</td>\n",
              "      <td>132.0</td>\n",
              "      <td>[{\"iso_639_1\": \"en\", \"name\": \"English\"}]</td>\n",
              "      <td>Released</td>\n",
              "      <td>Lost in our world, found in another.</td>\n",
              "      <td>John Carter</td>\n",
              "      <td>6.1</td>\n",
              "      <td>2124</td>\n",
              "      <td>Taylor Kitsch Lynn Collins Samantha Morton Wil...</td>\n",
              "      <td>[{'name': 'Andrew Stanton', 'gender': 2, 'depa...</td>\n",
              "      <td>Andrew Stanton</td>\n",
              "    </tr>\n",
              "  </tbody>\n",
              "</table>\n",
              "<p>5 rows × 24 columns</p>\n",
              "</div>\n",
              "      <button class=\"colab-df-convert\" onclick=\"convertToInteractive('df-bb06882b-74f1-4aba-a1e6-0b9946321b67')\"\n",
              "              title=\"Convert this dataframe to an interactive table.\"\n",
              "              style=\"display:none;\">\n",
              "        \n",
              "  <svg xmlns=\"http://www.w3.org/2000/svg\" height=\"24px\"viewBox=\"0 0 24 24\"\n",
              "       width=\"24px\">\n",
              "    <path d=\"M0 0h24v24H0V0z\" fill=\"none\"/>\n",
              "    <path d=\"M18.56 5.44l.94 2.06.94-2.06 2.06-.94-2.06-.94-.94-2.06-.94 2.06-2.06.94zm-11 1L8.5 8.5l.94-2.06 2.06-.94-2.06-.94L8.5 2.5l-.94 2.06-2.06.94zm10 10l.94 2.06.94-2.06 2.06-.94-2.06-.94-.94-2.06-.94 2.06-2.06.94z\"/><path d=\"M17.41 7.96l-1.37-1.37c-.4-.4-.92-.59-1.43-.59-.52 0-1.04.2-1.43.59L10.3 9.45l-7.72 7.72c-.78.78-.78 2.05 0 2.83L4 21.41c.39.39.9.59 1.41.59.51 0 1.02-.2 1.41-.59l7.78-7.78 2.81-2.81c.8-.78.8-2.07 0-2.86zM5.41 20L4 18.59l7.72-7.72 1.47 1.35L5.41 20z\"/>\n",
              "  </svg>\n",
              "      </button>\n",
              "      \n",
              "  <style>\n",
              "    .colab-df-container {\n",
              "      display:flex;\n",
              "      flex-wrap:wrap;\n",
              "      gap: 12px;\n",
              "    }\n",
              "\n",
              "    .colab-df-convert {\n",
              "      background-color: #E8F0FE;\n",
              "      border: none;\n",
              "      border-radius: 50%;\n",
              "      cursor: pointer;\n",
              "      display: none;\n",
              "      fill: #1967D2;\n",
              "      height: 32px;\n",
              "      padding: 0 0 0 0;\n",
              "      width: 32px;\n",
              "    }\n",
              "\n",
              "    .colab-df-convert:hover {\n",
              "      background-color: #E2EBFA;\n",
              "      box-shadow: 0px 1px 2px rgba(60, 64, 67, 0.3), 0px 1px 3px 1px rgba(60, 64, 67, 0.15);\n",
              "      fill: #174EA6;\n",
              "    }\n",
              "\n",
              "    [theme=dark] .colab-df-convert {\n",
              "      background-color: #3B4455;\n",
              "      fill: #D2E3FC;\n",
              "    }\n",
              "\n",
              "    [theme=dark] .colab-df-convert:hover {\n",
              "      background-color: #434B5C;\n",
              "      box-shadow: 0px 1px 3px 1px rgba(0, 0, 0, 0.15);\n",
              "      filter: drop-shadow(0px 1px 2px rgba(0, 0, 0, 0.3));\n",
              "      fill: #FFFFFF;\n",
              "    }\n",
              "  </style>\n",
              "\n",
              "      <script>\n",
              "        const buttonEl =\n",
              "          document.querySelector('#df-bb06882b-74f1-4aba-a1e6-0b9946321b67 button.colab-df-convert');\n",
              "        buttonEl.style.display =\n",
              "          google.colab.kernel.accessAllowed ? 'block' : 'none';\n",
              "\n",
              "        async function convertToInteractive(key) {\n",
              "          const element = document.querySelector('#df-bb06882b-74f1-4aba-a1e6-0b9946321b67');\n",
              "          const dataTable =\n",
              "            await google.colab.kernel.invokeFunction('convertToInteractive',\n",
              "                                                     [key], {});\n",
              "          if (!dataTable) return;\n",
              "\n",
              "          const docLinkHtml = 'Like what you see? Visit the ' +\n",
              "            '<a target=\"_blank\" href=https://colab.research.google.com/notebooks/data_table.ipynb>data table notebook</a>'\n",
              "            + ' to learn more about interactive tables.';\n",
              "          element.innerHTML = '';\n",
              "          dataTable['output_type'] = 'display_data';\n",
              "          await google.colab.output.renderOutput(dataTable, element);\n",
              "          const docLink = document.createElement('div');\n",
              "          docLink.innerHTML = docLinkHtml;\n",
              "          element.appendChild(docLink);\n",
              "        }\n",
              "      </script>\n",
              "    </div>\n",
              "  </div>\n",
              "  "
            ]
          },
          "metadata": {},
          "execution_count": 20
        }
      ]
    },
    {
      "cell_type": "markdown",
      "source": [
        "# EDA"
      ],
      "metadata": {
        "id": "6cCHUWydMhsx"
      }
    },
    {
      "cell_type": "code",
      "source": [
        "# Lets see how many columns and rows our dataset has\n",
        "\n",
        "df.shape"
      ],
      "metadata": {
        "colab": {
          "base_uri": "https://localhost:8080/"
        },
        "id": "RIrvFw4SMhRr",
        "outputId": "f6380410-f668-4dc6-aa7c-09bc55812a5e"
      },
      "execution_count": 21,
      "outputs": [
        {
          "output_type": "execute_result",
          "data": {
            "text/plain": [
              "(4803, 24)"
            ]
          },
          "metadata": {},
          "execution_count": 21
        }
      ]
    },
    {
      "cell_type": "code",
      "source": [
        "# Lets select only useful columns from the datset\n",
        "\n",
        "useful_features = ['genres','keywords','tagline','cast','director']\n",
        "useful_features"
      ],
      "metadata": {
        "colab": {
          "base_uri": "https://localhost:8080/"
        },
        "id": "EqRZywQVM8Jt",
        "outputId": "98df0d46-0f7a-4d4d-fccc-3f5fa740ef75"
      },
      "execution_count": 6,
      "outputs": [
        {
          "output_type": "execute_result",
          "data": {
            "text/plain": [
              "['genres', 'keywords', 'tagline', 'cast', 'director']"
            ]
          },
          "metadata": {},
          "execution_count": 6
        }
      ]
    },
    {
      "cell_type": "code",
      "source": [
        "movie_data = df.filter(useful_features,axis=1)\n",
        "movie_data.head()"
      ],
      "metadata": {
        "colab": {
          "base_uri": "https://localhost:8080/",
          "height": 337
        },
        "id": "xDXrRIr5NMh1",
        "outputId": "a2851cc9-4064-4692-eed8-a85b3c627374"
      },
      "execution_count": 22,
      "outputs": [
        {
          "output_type": "execute_result",
          "data": {
            "text/plain": [
              "                                     genres  \\\n",
              "0  Action Adventure Fantasy Science Fiction   \n",
              "1                  Adventure Fantasy Action   \n",
              "2                    Action Adventure Crime   \n",
              "3               Action Crime Drama Thriller   \n",
              "4          Action Adventure Science Fiction   \n",
              "\n",
              "                                            keywords  \\\n",
              "0  culture clash future space war space colony so...   \n",
              "1  ocean drug abuse exotic island east india trad...   \n",
              "2         spy based on novel secret agent sequel mi6   \n",
              "3  dc comics crime fighter terrorist secret ident...   \n",
              "4  based on novel mars medallion space travel pri...   \n",
              "\n",
              "                                          tagline  \\\n",
              "0                     Enter the World of Pandora.   \n",
              "1  At the end of the world, the adventure begins.   \n",
              "2                           A Plan No One Escapes   \n",
              "3                                 The Legend Ends   \n",
              "4            Lost in our world, found in another.   \n",
              "\n",
              "                                                cast           director  \n",
              "0  Sam Worthington Zoe Saldana Sigourney Weaver S...      James Cameron  \n",
              "1  Johnny Depp Orlando Bloom Keira Knightley Stel...     Gore Verbinski  \n",
              "2  Daniel Craig Christoph Waltz L\\u00e9a Seydoux ...         Sam Mendes  \n",
              "3  Christian Bale Michael Caine Gary Oldman Anne ...  Christopher Nolan  \n",
              "4  Taylor Kitsch Lynn Collins Samantha Morton Wil...     Andrew Stanton  "
            ],
            "text/html": [
              "\n",
              "  <div id=\"df-40d664dc-6b79-4ee1-a598-e15f2b389eaf\">\n",
              "    <div class=\"colab-df-container\">\n",
              "      <div>\n",
              "<style scoped>\n",
              "    .dataframe tbody tr th:only-of-type {\n",
              "        vertical-align: middle;\n",
              "    }\n",
              "\n",
              "    .dataframe tbody tr th {\n",
              "        vertical-align: top;\n",
              "    }\n",
              "\n",
              "    .dataframe thead th {\n",
              "        text-align: right;\n",
              "    }\n",
              "</style>\n",
              "<table border=\"1\" class=\"dataframe\">\n",
              "  <thead>\n",
              "    <tr style=\"text-align: right;\">\n",
              "      <th></th>\n",
              "      <th>genres</th>\n",
              "      <th>keywords</th>\n",
              "      <th>tagline</th>\n",
              "      <th>cast</th>\n",
              "      <th>director</th>\n",
              "    </tr>\n",
              "  </thead>\n",
              "  <tbody>\n",
              "    <tr>\n",
              "      <th>0</th>\n",
              "      <td>Action Adventure Fantasy Science Fiction</td>\n",
              "      <td>culture clash future space war space colony so...</td>\n",
              "      <td>Enter the World of Pandora.</td>\n",
              "      <td>Sam Worthington Zoe Saldana Sigourney Weaver S...</td>\n",
              "      <td>James Cameron</td>\n",
              "    </tr>\n",
              "    <tr>\n",
              "      <th>1</th>\n",
              "      <td>Adventure Fantasy Action</td>\n",
              "      <td>ocean drug abuse exotic island east india trad...</td>\n",
              "      <td>At the end of the world, the adventure begins.</td>\n",
              "      <td>Johnny Depp Orlando Bloom Keira Knightley Stel...</td>\n",
              "      <td>Gore Verbinski</td>\n",
              "    </tr>\n",
              "    <tr>\n",
              "      <th>2</th>\n",
              "      <td>Action Adventure Crime</td>\n",
              "      <td>spy based on novel secret agent sequel mi6</td>\n",
              "      <td>A Plan No One Escapes</td>\n",
              "      <td>Daniel Craig Christoph Waltz L\\u00e9a Seydoux ...</td>\n",
              "      <td>Sam Mendes</td>\n",
              "    </tr>\n",
              "    <tr>\n",
              "      <th>3</th>\n",
              "      <td>Action Crime Drama Thriller</td>\n",
              "      <td>dc comics crime fighter terrorist secret ident...</td>\n",
              "      <td>The Legend Ends</td>\n",
              "      <td>Christian Bale Michael Caine Gary Oldman Anne ...</td>\n",
              "      <td>Christopher Nolan</td>\n",
              "    </tr>\n",
              "    <tr>\n",
              "      <th>4</th>\n",
              "      <td>Action Adventure Science Fiction</td>\n",
              "      <td>based on novel mars medallion space travel pri...</td>\n",
              "      <td>Lost in our world, found in another.</td>\n",
              "      <td>Taylor Kitsch Lynn Collins Samantha Morton Wil...</td>\n",
              "      <td>Andrew Stanton</td>\n",
              "    </tr>\n",
              "  </tbody>\n",
              "</table>\n",
              "</div>\n",
              "      <button class=\"colab-df-convert\" onclick=\"convertToInteractive('df-40d664dc-6b79-4ee1-a598-e15f2b389eaf')\"\n",
              "              title=\"Convert this dataframe to an interactive table.\"\n",
              "              style=\"display:none;\">\n",
              "        \n",
              "  <svg xmlns=\"http://www.w3.org/2000/svg\" height=\"24px\"viewBox=\"0 0 24 24\"\n",
              "       width=\"24px\">\n",
              "    <path d=\"M0 0h24v24H0V0z\" fill=\"none\"/>\n",
              "    <path d=\"M18.56 5.44l.94 2.06.94-2.06 2.06-.94-2.06-.94-.94-2.06-.94 2.06-2.06.94zm-11 1L8.5 8.5l.94-2.06 2.06-.94-2.06-.94L8.5 2.5l-.94 2.06-2.06.94zm10 10l.94 2.06.94-2.06 2.06-.94-2.06-.94-.94-2.06-.94 2.06-2.06.94z\"/><path d=\"M17.41 7.96l-1.37-1.37c-.4-.4-.92-.59-1.43-.59-.52 0-1.04.2-1.43.59L10.3 9.45l-7.72 7.72c-.78.78-.78 2.05 0 2.83L4 21.41c.39.39.9.59 1.41.59.51 0 1.02-.2 1.41-.59l7.78-7.78 2.81-2.81c.8-.78.8-2.07 0-2.86zM5.41 20L4 18.59l7.72-7.72 1.47 1.35L5.41 20z\"/>\n",
              "  </svg>\n",
              "      </button>\n",
              "      \n",
              "  <style>\n",
              "    .colab-df-container {\n",
              "      display:flex;\n",
              "      flex-wrap:wrap;\n",
              "      gap: 12px;\n",
              "    }\n",
              "\n",
              "    .colab-df-convert {\n",
              "      background-color: #E8F0FE;\n",
              "      border: none;\n",
              "      border-radius: 50%;\n",
              "      cursor: pointer;\n",
              "      display: none;\n",
              "      fill: #1967D2;\n",
              "      height: 32px;\n",
              "      padding: 0 0 0 0;\n",
              "      width: 32px;\n",
              "    }\n",
              "\n",
              "    .colab-df-convert:hover {\n",
              "      background-color: #E2EBFA;\n",
              "      box-shadow: 0px 1px 2px rgba(60, 64, 67, 0.3), 0px 1px 3px 1px rgba(60, 64, 67, 0.15);\n",
              "      fill: #174EA6;\n",
              "    }\n",
              "\n",
              "    [theme=dark] .colab-df-convert {\n",
              "      background-color: #3B4455;\n",
              "      fill: #D2E3FC;\n",
              "    }\n",
              "\n",
              "    [theme=dark] .colab-df-convert:hover {\n",
              "      background-color: #434B5C;\n",
              "      box-shadow: 0px 1px 3px 1px rgba(0, 0, 0, 0.15);\n",
              "      filter: drop-shadow(0px 1px 2px rgba(0, 0, 0, 0.3));\n",
              "      fill: #FFFFFF;\n",
              "    }\n",
              "  </style>\n",
              "\n",
              "      <script>\n",
              "        const buttonEl =\n",
              "          document.querySelector('#df-40d664dc-6b79-4ee1-a598-e15f2b389eaf button.colab-df-convert');\n",
              "        buttonEl.style.display =\n",
              "          google.colab.kernel.accessAllowed ? 'block' : 'none';\n",
              "\n",
              "        async function convertToInteractive(key) {\n",
              "          const element = document.querySelector('#df-40d664dc-6b79-4ee1-a598-e15f2b389eaf');\n",
              "          const dataTable =\n",
              "            await google.colab.kernel.invokeFunction('convertToInteractive',\n",
              "                                                     [key], {});\n",
              "          if (!dataTable) return;\n",
              "\n",
              "          const docLinkHtml = 'Like what you see? Visit the ' +\n",
              "            '<a target=\"_blank\" href=https://colab.research.google.com/notebooks/data_table.ipynb>data table notebook</a>'\n",
              "            + ' to learn more about interactive tables.';\n",
              "          element.innerHTML = '';\n",
              "          dataTable['output_type'] = 'display_data';\n",
              "          await google.colab.output.renderOutput(dataTable, element);\n",
              "          const docLink = document.createElement('div');\n",
              "          docLink.innerHTML = docLinkHtml;\n",
              "          element.appendChild(docLink);\n",
              "        }\n",
              "      </script>\n",
              "    </div>\n",
              "  </div>\n",
              "  "
            ]
          },
          "metadata": {},
          "execution_count": 22
        }
      ]
    },
    {
      "cell_type": "code",
      "source": [
        "# Lets see if there is any missing value\n",
        "\n",
        "movie_data.isna().sum()"
      ],
      "metadata": {
        "colab": {
          "base_uri": "https://localhost:8080/"
        },
        "id": "ULJAQifMMWXH",
        "outputId": "8eb0ad02-0b44-4c84-857a-774b7a93499e"
      },
      "execution_count": 23,
      "outputs": [
        {
          "output_type": "execute_result",
          "data": {
            "text/plain": [
              "genres       28\n",
              "keywords    412\n",
              "tagline     844\n",
              "cast         43\n",
              "director     30\n",
              "dtype: int64"
            ]
          },
          "metadata": {},
          "execution_count": 23
        }
      ]
    },
    {
      "cell_type": "code",
      "source": [
        "# Lets fill all the missing values with an empty string\n",
        "\n",
        "movie_data = movie_data.fillna('')"
      ],
      "metadata": {
        "id": "We1FznHoMWU9"
      },
      "execution_count": 24,
      "outputs": []
    },
    {
      "cell_type": "code",
      "source": [
        "# Lets cross check if all the missing values are fixed\n",
        "\n",
        "movie_data.isna().sum()"
      ],
      "metadata": {
        "colab": {
          "base_uri": "https://localhost:8080/"
        },
        "id": "gdqzhtMWMWSv",
        "outputId": "1df85ba5-a527-4e41-9dab-760b0930c731"
      },
      "execution_count": 25,
      "outputs": [
        {
          "output_type": "execute_result",
          "data": {
            "text/plain": [
              "genres      0\n",
              "keywords    0\n",
              "tagline     0\n",
              "cast        0\n",
              "director    0\n",
              "dtype: int64"
            ]
          },
          "metadata": {},
          "execution_count": 25
        }
      ]
    },
    {
      "cell_type": "code",
      "source": [
        "# Lets create a combined feature \n",
        "\n",
        "combined_features = ''\n",
        "for col in movie_data.columns:\n",
        "  combined_features = combined_features + ' ' + movie_data[col]\n",
        "\n",
        "combined_features"
      ],
      "metadata": {
        "colab": {
          "base_uri": "https://localhost:8080/"
        },
        "id": "BF3n1NifMWQV",
        "outputId": "188b5785-9fce-4cc6-b987-00e56424f8bb"
      },
      "execution_count": 28,
      "outputs": [
        {
          "output_type": "execute_result",
          "data": {
            "text/plain": [
              "0        Action Adventure Fantasy Science Fiction cult...\n",
              "1        Adventure Fantasy Action ocean drug abuse exo...\n",
              "2        Action Adventure Crime spy based on novel sec...\n",
              "3        Action Crime Drama Thriller dc comics crime f...\n",
              "4        Action Adventure Science Fiction based on nov...\n",
              "                              ...                        \n",
              "4798     Action Crime Thriller united states\\u2013mexi...\n",
              "4799     Comedy Romance  A newlywed couple's honeymoon...\n",
              "4800     Comedy Drama Romance TV Movie date love at fi...\n",
              "4801       A New Yorker in Shanghai Daniel Henney Eliz...\n",
              "4802     Documentary obsession camcorder crush dream g...\n",
              "Length: 4803, dtype: object"
            ]
          },
          "metadata": {},
          "execution_count": 28
        }
      ]
    },
    {
      "cell_type": "code",
      "source": [
        "# Initializing our vectorizer\n",
        "\n",
        "vectorizer = TfidfVectorizer()"
      ],
      "metadata": {
        "id": "Q1OZwQ30MWOS"
      },
      "execution_count": 29,
      "outputs": []
    },
    {
      "cell_type": "code",
      "source": [
        "# Lets fit our combined feature into the vectorizer\n",
        "\n",
        "feature_vectors = vectorizer.fit_transform(combined_features)\n",
        "print(feature_vectors)"
      ],
      "metadata": {
        "id": "MIdTn_pQMWLr",
        "colab": {
          "base_uri": "https://localhost:8080/"
        },
        "outputId": "cb0e2614-6604-4d35-d2eb-77275e840e39"
      },
      "execution_count": 30,
      "outputs": [
        {
          "output_type": "stream",
          "name": "stdout",
          "text": [
            "  (0, 2432)\t0.17272411194153\n",
            "  (0, 7755)\t0.1128035714854756\n",
            "  (0, 13024)\t0.1942362060108871\n",
            "  (0, 10229)\t0.16058685400095302\n",
            "  (0, 8756)\t0.22709015857011816\n",
            "  (0, 14608)\t0.15150672398763912\n",
            "  (0, 16668)\t0.19843263965100372\n",
            "  (0, 14064)\t0.20596090415084142\n",
            "  (0, 13319)\t0.2177470539412484\n",
            "  (0, 17290)\t0.20197912553916567\n",
            "  (0, 17007)\t0.23643326319898797\n",
            "  (0, 13349)\t0.15021264094167086\n",
            "  (0, 11503)\t0.27211310056983656\n",
            "  (0, 11192)\t0.09049319826481456\n",
            "  (0, 16998)\t0.1282126322850579\n",
            "  (0, 15261)\t0.07095833561276566\n",
            "  (0, 4945)\t0.24025852494110758\n",
            "  (0, 14271)\t0.21392179219912877\n",
            "  (0, 3225)\t0.24960162956997736\n",
            "  (0, 16587)\t0.12549432354918996\n",
            "  (0, 14378)\t0.33962752210959823\n",
            "  (0, 5836)\t0.1646750903586285\n",
            "  (0, 3065)\t0.22208377802661425\n",
            "  (0, 3678)\t0.21392179219912877\n",
            "  (0, 5437)\t0.1036413987316636\n",
            "  :\t:\n",
            "  (4801, 17266)\t0.2886098184932947\n",
            "  (4801, 4835)\t0.24713765026963996\n",
            "  (4801, 403)\t0.17727585190343226\n",
            "  (4801, 6935)\t0.2886098184932947\n",
            "  (4801, 11663)\t0.21557500762727902\n",
            "  (4801, 1672)\t0.1564793427630879\n",
            "  (4801, 10929)\t0.13504166990041588\n",
            "  (4801, 7474)\t0.11307961713172225\n",
            "  (4801, 3796)\t0.3342808988877418\n",
            "  (4802, 6996)\t0.5700048226105303\n",
            "  (4802, 5367)\t0.22969114490410403\n",
            "  (4802, 3654)\t0.262512960498006\n",
            "  (4802, 2425)\t0.24002350969074696\n",
            "  (4802, 4608)\t0.24002350969074696\n",
            "  (4802, 6417)\t0.21753405888348784\n",
            "  (4802, 4371)\t0.1538239182675544\n",
            "  (4802, 12989)\t0.1696476532191718\n",
            "  (4802, 1316)\t0.1960747079005741\n",
            "  (4802, 4528)\t0.19504460807622875\n",
            "  (4802, 3436)\t0.21753405888348784\n",
            "  (4802, 6155)\t0.18056463596934083\n",
            "  (4802, 4980)\t0.16078053641367315\n",
            "  (4802, 2129)\t0.3099656128577656\n",
            "  (4802, 4518)\t0.16784466610624255\n",
            "  (4802, 11161)\t0.17867407682173203\n"
          ]
        }
      ]
    },
    {
      "cell_type": "markdown",
      "source": [
        "# Cosine Similarity"
      ],
      "metadata": {
        "id": "GqdfSQF5x2aT"
      }
    },
    {
      "cell_type": "code",
      "source": [
        "# Lets see our cosine similarity vector\n",
        "\n",
        "similarity = cosine_similarity(feature_vectors)\n",
        "print(similarity.shape)\n",
        "print(similarity)"
      ],
      "metadata": {
        "id": "ypz0Xr-AMWJH",
        "colab": {
          "base_uri": "https://localhost:8080/"
        },
        "outputId": "29e44d81-d75b-4802-d9db-4345870f3b48"
      },
      "execution_count": 31,
      "outputs": [
        {
          "output_type": "stream",
          "name": "stdout",
          "text": [
            "(4803, 4803)\n",
            "[[1.         0.07219487 0.037733   ... 0.         0.         0.        ]\n",
            " [0.07219487 1.         0.03281499 ... 0.03575545 0.         0.        ]\n",
            " [0.037733   0.03281499 1.         ... 0.         0.05389661 0.        ]\n",
            " ...\n",
            " [0.         0.03575545 0.         ... 1.         0.         0.02651502]\n",
            " [0.         0.         0.05389661 ... 0.         1.         0.        ]\n",
            " [0.         0.         0.         ... 0.02651502 0.         1.        ]]\n"
          ]
        }
      ]
    },
    {
      "cell_type": "markdown",
      "source": [
        "The above similarity vector shows each features similarity with other feature in our dataset"
      ],
      "metadata": {
        "id": "faCV9MHRyHAc"
      }
    },
    {
      "cell_type": "markdown",
      "source": [
        "# Building the recommendation system"
      ],
      "metadata": {
        "id": "_nfp6l-Pyhvn"
      }
    },
    {
      "cell_type": "code",
      "source": [
        "# Before going to building the recommendation system we should first get the list of movie names\n",
        "\n",
        "movie_titles = list(df.title.values)\n",
        "movie_titles[:5]"
      ],
      "metadata": {
        "id": "eVO3QqM1MWGe",
        "colab": {
          "base_uri": "https://localhost:8080/"
        },
        "outputId": "337fcab5-ca97-4564-d6cd-07f7eefd3e58"
      },
      "execution_count": 35,
      "outputs": [
        {
          "output_type": "execute_result",
          "data": {
            "text/plain": [
              "['Avatar',\n",
              " \"Pirates of the Caribbean: At World's End\",\n",
              " 'Spectre',\n",
              " 'The Dark Knight Rises',\n",
              " 'John Carter']"
            ]
          },
          "metadata": {},
          "execution_count": 35
        }
      ]
    },
    {
      "cell_type": "code",
      "source": [
        "# Lets try to recieve input from the user and find out similar films\n",
        "\n",
        "movie = input('Please enter the movie name: ')"
      ],
      "metadata": {
        "id": "hpAXNj_SMWEQ",
        "colab": {
          "base_uri": "https://localhost:8080/"
        },
        "outputId": "5357c89d-41b9-4495-844b-d21de042ff50"
      },
      "execution_count": 36,
      "outputs": [
        {
          "name": "stdout",
          "output_type": "stream",
          "text": [
            "Please enter the movie name: Spider mann\n"
          ]
        }
      ]
    },
    {
      "cell_type": "code",
      "source": [
        "# Now that we got an input from the user let us try to find the similar titles\n",
        "\n",
        "closest_match_to_the_input = difflib.get_close_matches(movie,\n",
        "                                                       movie_titles)\n",
        "closest_match_to_the_input"
      ],
      "metadata": {
        "id": "IP81x81hMWCB",
        "colab": {
          "base_uri": "https://localhost:8080/"
        },
        "outputId": "314e8fb0-d10a-4390-cc3f-1a9c225b2f6d"
      },
      "execution_count": 37,
      "outputs": [
        {
          "output_type": "execute_result",
          "data": {
            "text/plain": [
              "['Spider-Man', 'Superman', 'Spider']"
            ]
          },
          "metadata": {},
          "execution_count": 37
        }
      ]
    },
    {
      "cell_type": "code",
      "source": [
        "# From the above we can see that even if we entered a wrong title we get the similar ones\n",
        "# So lets take the first one with the higher similarity to the input\n",
        "\n",
        "closest_match = closest_match_to_the_input[0]\n",
        "closest_match"
      ],
      "metadata": {
        "id": "YH_HqkP1MV_p",
        "colab": {
          "base_uri": "https://localhost:8080/",
          "height": 35
        },
        "outputId": "20f09cd4-9968-419d-84e6-fc6a44416116"
      },
      "execution_count": 38,
      "outputs": [
        {
          "output_type": "execute_result",
          "data": {
            "text/plain": [
              "'Spider-Man'"
            ],
            "application/vnd.google.colaboratory.intrinsic+json": {
              "type": "string"
            }
          },
          "metadata": {},
          "execution_count": 38
        }
      ]
    },
    {
      "cell_type": "code",
      "source": [
        "# Lets find the index of our input title\n",
        "\n",
        "index_ = df[df.title==closest_match]['index'].values[0]\n",
        "index_"
      ],
      "metadata": {
        "id": "-6jOBYNvMV8-",
        "colab": {
          "base_uri": "https://localhost:8080/"
        },
        "outputId": "e0112b9b-cb53-4cf5-ca61-b2b9b7956fcd"
      },
      "execution_count": 43,
      "outputs": [
        {
          "output_type": "execute_result",
          "data": {
            "text/plain": [
              "159"
            ]
          },
          "metadata": {},
          "execution_count": 43
        }
      ]
    },
    {
      "cell_type": "code",
      "source": [
        "# Now that we got the index of our input title lets see list of simmilar movies\n",
        "\n",
        "list_of_similar_movies = list(enumerate(similarity[index_]))\n",
        "list_of_similar_movies[:5]"
      ],
      "metadata": {
        "id": "y834CKl4MV6r",
        "colab": {
          "base_uri": "https://localhost:8080/"
        },
        "outputId": "99fcd3d6-cbaa-4b31-babd-5a5ebd7d383f"
      },
      "execution_count": 48,
      "outputs": [
        {
          "output_type": "execute_result",
          "data": {
            "text/plain": [
              "[(0, 0.05803347266824191),\n",
              " (1, 0.028510860472594192),\n",
              " (2, 0.027527242422615502),\n",
              " (3, 0.006457320533567938),\n",
              " (4, 0.07910312941508459)]"
            ]
          },
          "metadata": {},
          "execution_count": 48
        }
      ]
    },
    {
      "cell_type": "code",
      "source": [
        "# Lets sort the similarity index \n",
        "\n",
        "sorted_similarities = sorted(list_of_similar_movies,\n",
        "                             key = lambda x:x[1],\n",
        "                             reverse = True\n",
        "                             )\n",
        "sorted_similarities[:5]"
      ],
      "metadata": {
        "id": "03IRoS4jMV4G",
        "colab": {
          "base_uri": "https://localhost:8080/"
        },
        "outputId": "26511c03-ede5-4f92-d984-99dd016512e3"
      },
      "execution_count": 50,
      "outputs": [
        {
          "output_type": "execute_result",
          "data": {
            "text/plain": [
              "[(159, 1.0000000000000004),\n",
              " (5, 0.3188331558421017),\n",
              " (30, 0.3179190198222972),\n",
              " (1559, 0.1828131277152563),\n",
              " (382, 0.16501718739122473)]"
            ]
          },
          "metadata": {},
          "execution_count": 50
        }
      ]
    },
    {
      "cell_type": "code",
      "source": [
        "# Now that we got the sorted similarities and their index \n",
        "# Lets find the titles for recomendation\n",
        "\n",
        "titles = []\n",
        "for movie in sorted_similarities:\n",
        "  index_ = movie[0]\n",
        "  titles.append(df[df.index == index_]['title'].values[0])\n",
        "\n",
        "titles[:20]"
      ],
      "metadata": {
        "id": "i4KSdYzzMV1e",
        "colab": {
          "base_uri": "https://localhost:8080/"
        },
        "outputId": "ffda5afd-a859-4100-f078-f7669c4b7070"
      },
      "execution_count": 58,
      "outputs": [
        {
          "output_type": "execute_result",
          "data": {
            "text/plain": [
              "['Spider-Man',\n",
              " 'Spider-Man 3',\n",
              " 'Spider-Man 2',\n",
              " 'The Notebook',\n",
              " 'Seabiscuit',\n",
              " 'Clerks II',\n",
              " 'The Ice Storm',\n",
              " 'Oz: The Great and Powerful',\n",
              " 'Horrible Bosses',\n",
              " 'The Count of Monte Cristo',\n",
              " 'In Good Company',\n",
              " 'Finding Nemo',\n",
              " 'Clear and Present Danger',\n",
              " 'Brothers',\n",
              " 'The Good German',\n",
              " 'Drag Me to Hell',\n",
              " 'Bambi',\n",
              " 'The Queen',\n",
              " 'Charly',\n",
              " 'Escape from L.A.']"
            ]
          },
          "metadata": {},
          "execution_count": 58
        }
      ]
    },
    {
      "cell_type": "code",
      "source": [
        "# Now let us create a full recomendation system for 10 movies suggestion\n",
        "\n",
        "movie = input('Please enter the movie name: ')\n",
        "closest_match_to_the_input = difflib.get_close_matches(movie,\n",
        "                                                       movie_titles)\n",
        "if len(closest_match_to_the_input)>0:\n",
        "  closest_match = closest_match_to_the_input[0]\n",
        "  print('The similar movie to the title you entered in our dataset is: ',\n",
        "        closest_match)\n",
        "  index_ = df[df.title==closest_match]['index'].values[0]\n",
        "  list_of_similar_movies = list(enumerate(similarity[index_]))\n",
        "  sorted_similarities = sorted(list_of_similar_movies,\n",
        "                              key = lambda x:x[1],\n",
        "                              reverse = True\n",
        "                              )\n",
        "  titles = []\n",
        "\n",
        "  for movie in sorted_similarities:\n",
        "    index_ = movie[0]\n",
        "    titles.append(df[df.index == index_]['title'].values[0])\n",
        "\n",
        "  print('These are the top 10 recommendation for you: ')\n",
        "\n",
        "  for title in titles[1:10]:\n",
        "    print('$$$$$$$$',title)\n",
        "\n",
        "else:\n",
        "  print(\"We couldn't find the title you passed in our dataset\")"
      ],
      "metadata": {
        "id": "dgIeDG8nMVzo",
        "colab": {
          "base_uri": "https://localhost:8080/"
        },
        "outputId": "b5a76878-2467-4cb5-fa14-1a8cfe743c3f"
      },
      "execution_count": 76,
      "outputs": [
        {
          "output_type": "stream",
          "name": "stdout",
          "text": [
            "Please enter the movie name: Home alon\n",
            "The similar movie to the title you entered in our dataset is:  Home Alone\n",
            "These are the top 10 recommendation for you: \n",
            "$$$$$$$$ Home Alone 2: Lost in New York\n",
            "$$$$$$$$ Running Forever\n",
            "$$$$$$$$ Entrapment\n",
            "$$$$$$$$ Ri¢hie Ri¢h\n",
            "$$$$$$$$ This Christmas\n",
            "$$$$$$$$ The Santa Clause 2\n",
            "$$$$$$$$ Harry Potter and the Philosopher's Stone\n",
            "$$$$$$$$ Tin Can Man\n",
            "$$$$$$$$ Eulogy\n"
          ]
        }
      ]
    }
  ]
}